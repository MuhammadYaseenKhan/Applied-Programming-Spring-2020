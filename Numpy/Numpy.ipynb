{
 "cells": [
  {
   "cell_type": "code",
   "execution_count": 30,
   "metadata": {},
   "outputs": [],
   "source": [
    "from scipy import stats\n",
    "import numpy as np"
   ]
  },
  {
   "cell_type": "code",
   "execution_count": 5,
   "metadata": {},
   "outputs": [
    {
     "name": "stdout",
     "output_type": "stream",
     "text": [
      "5\n"
     ]
    }
   ],
   "source": [
    "r = np.random.randint(0,10)\n",
    "print(r)"
   ]
  },
  {
   "cell_type": "code",
   "execution_count": 6,
   "metadata": {
    "collapsed": true
   },
   "outputs": [
    {
     "name": "stdout",
     "output_type": "stream",
     "text": [
      "[6, 2, 9, 2, 1, 5, 2, 4, 9, 7, 1, 0, 2, 2, 5, 5, 0, 5, 9, 3, 8, 3, 2, 8, 8, 8, 9, 6, 3, 9, 4, 3, 4, 5, 9, 0, 7, 5, 8, 1, 3, 9, 5, 7, 5, 4, 2, 8, 2, 5, 0, 6, 1, 2, 2, 1, 9, 1, 5, 8, 8, 0, 6, 0, 2, 0, 6, 3, 6, 8, 2, 8, 3, 3, 1, 3, 9, 0, 4, 1, 5, 4, 8, 6, 9, 0, 9, 4, 3, 3, 0, 9, 1, 4, 4, 2, 0, 3, 8, 2, 6, 1, 8, 4, 9, 1, 3, 6, 4, 6, 7, 7, 5, 7, 5, 3, 1, 5, 4, 1, 3, 3, 4, 2, 1, 4, 3, 7, 5, 2, 7, 1, 7, 6, 7, 0, 0, 5, 4, 5, 9, 9, 0, 3, 3, 2, 7, 8, 1, 1, 3, 5, 8, 2, 3, 0, 5, 1, 1, 0, 5, 0, 5, 4, 9, 8, 5, 5, 5, 2, 0, 1, 6, 7, 9, 9, 4, 2, 2, 3, 1, 1, 5, 0, 6, 0, 2, 4, 0, 9, 5, 6, 0, 8, 6, 6, 7, 5, 8, 2, 5, 8, 0, 4, 0, 6, 1, 4, 2, 3, 3, 2, 0, 8, 2, 6, 0, 3, 8, 5, 7, 3, 0, 7, 9, 2, 9, 1, 8, 7, 3, 3, 5, 2, 5, 4, 6, 9, 5, 6, 7, 2, 0, 3, 1, 9, 7, 1, 5, 5, 2, 0, 6, 1, 8, 4, 5, 8, 5, 1, 6, 2, 6, 4, 5, 7, 5, 7, 6, 2, 2, 7, 6, 0, 0, 0, 8, 2, 0, 2, 1, 6, 0, 7, 7, 8, 4, 0, 1, 5, 2, 6, 4, 8, 8, 7, 8, 3, 9, 9, 6, 0, 3, 3, 6, 4, 2, 6, 1, 4, 7, 5, 8, 6, 4, 3, 0, 0, 5, 7, 3, 6, 2, 3, 2, 4, 1, 4, 5, 9, 4, 7, 5, 1, 9, 1, 6, 2, 3, 0, 1, 8, 2, 1, 2, 0, 1, 2, 8, 9, 2, 6, 7, 1, 7, 0, 5, 5, 6, 7, 4, 4, 6, 1, 3, 0, 9, 1, 2, 3, 7, 7, 4, 8, 2, 4, 5, 6, 6, 1, 5, 0, 6, 3, 9, 6, 8, 5, 6, 7, 7, 3, 6, 7, 9, 8, 3, 9, 0, 2, 7, 0, 9, 5, 0, 1, 3, 7, 6, 7, 2, 2, 4, 8, 4, 1, 1, 0, 2, 0, 8, 5, 5, 0, 8, 7, 9, 9, 7, 4, 2, 2, 1, 2, 0, 4, 8, 1, 2, 6, 4, 1, 8, 5, 1, 7, 6, 8, 6, 2, 3, 1, 5, 0, 0, 5, 6, 0, 4, 1, 2, 7, 2, 8, 1, 2, 3, 6, 2, 8, 0, 2, 4, 4, 7, 7, 0, 5, 2, 3, 3, 8, 8, 2, 1, 6, 6, 5, 9, 0, 4, 6, 8, 1, 3, 8, 3, 2, 9, 8, 8, 3, 6, 0, 9, 6, 3, 1, 6, 9, 6, 4, 5, 0, 5, 8, 3, 4, 1, 4, 4, 4, 0, 2, 6, 1, 7, 0, 3, 6, 6, 0, 7, 0, 4, 5, 7, 1, 2, 6, 2, 2, 1, 4, 6, 4, 1, 1, 3, 8, 2, 9, 7, 5, 9, 1, 5, 6, 6, 1, 0, 4, 4, 7, 0, 2, 7, 6, 0, 7, 5, 0, 5, 4, 1, 3, 0, 3, 4, 8, 2, 0, 9, 6, 1, 7, 0, 0, 0, 5, 7, 7, 1, 0, 0, 1, 8, 3, 0, 4, 9, 9, 9, 2, 9, 2, 5, 7, 8, 8, 3, 7, 8, 6, 8, 9, 5, 4, 2, 5, 3, 5, 2, 6, 2, 9, 0, 8, 8, 6, 9, 8, 3, 9, 3, 3, 2, 5, 2, 9, 8, 7, 7, 4, 1, 4, 0, 3, 2, 7, 3, 3, 7, 4, 5, 4, 6, 6, 2, 3, 4, 9, 1, 2, 1, 9, 1, 5, 7, 7, 1, 4, 0, 9, 7, 7, 0, 0, 1, 5, 3, 9, 7, 5, 0, 4, 6, 3, 7, 3, 5, 5, 3, 3, 1, 7, 2, 5, 0, 5, 7, 1, 4, 6, 1, 4, 7, 4, 6, 8, 6, 7, 8, 7, 4, 3, 1, 4, 6, 6, 3, 8, 8, 8, 2, 4, 4, 3, 5, 4, 7, 9, 7, 4, 1, 7, 3, 3, 4, 6, 6, 5, 6, 7, 0, 3, 2, 2, 6, 8, 6, 9, 0, 3, 7, 3, 7, 3, 7, 7, 0, 2, 9, 9, 6, 4, 8, 9, 4, 6, 0, 4, 9, 2, 0, 0, 1, 2, 4, 5, 2, 0, 8, 2, 4, 7, 7, 3, 5, 7, 5, 8, 9, 7, 0, 6, 7, 8, 6, 0, 2, 6, 5, 1, 2, 5, 8, 7, 4, 2, 1, 8, 5, 6, 3, 7, 2, 0, 5, 5, 5, 6, 1, 2, 0, 1, 3, 5, 0, 8, 0, 2, 4, 4, 6, 2, 8, 7, 8, 0, 4, 9, 4, 2, 9, 4, 1, 3, 5, 7, 4, 0, 5, 0, 9, 2, 8, 3, 7, 8, 6, 2, 7, 4, 7, 6, 7, 2, 6, 3, 8, 5, 4, 6, 9, 0, 1, 8, 8, 9, 8, 2, 8, 0, 1, 9, 6, 3, 2, 9, 0, 4, 7, 1, 6, 0, 9, 8, 5, 5, 7, 2, 9, 8, 5, 8, 4, 9, 6, 6, 5, 8, 5, 2, 2, 0, 8, 5, 4, 9, 2, 7, 0, 2, 0, 5, 6, 2, 8, 4, 1, 8, 8, 0, 1, 3, 8, 3, 9, 6, 7, 1, 3, 5, 7, 8, 1, 9, 5, 6, 9, 7, 6, 2, 6, 2, 9, 5, 3, 7, 0, 6, 6, 8, 2, 2, 7, 2, 7, 5, 8, 9, 6, 9, 2, 8, 8, 8, 3, 3, 8, 4, 1, 1, 6, 7, 1, 9, 6, 5, 9, 9, 2, 2, 0, 7, 4, 3, 0, 5]\n"
     ]
    }
   ],
   "source": [
    "x = [np.random.randint(0,10) for i in range(1000)]\n",
    "print(x)"
   ]
  },
  {
   "cell_type": "code",
   "execution_count": 9,
   "metadata": {},
   "outputs": [
    {
     "name": "stdout",
     "output_type": "stream",
     "text": [
      "4.396\n",
      "4.0\n"
     ]
    }
   ],
   "source": [
    "average = np.mean(x)\n",
    "print(average)\n",
    "median = np.median(x)\n",
    "print(median)"
   ]
  },
  {
   "cell_type": "code",
   "execution_count": 17,
   "metadata": {},
   "outputs": [
    {
     "name": "stdout",
     "output_type": "stream",
     "text": [
      "93\n"
     ]
    }
   ],
   "source": [
    "print(x.count(1))"
   ]
  },
  {
   "cell_type": "code",
   "execution_count": 18,
   "metadata": {},
   "outputs": [
    {
     "name": "stdout",
     "output_type": "stream",
     "text": [
      "ModeResult(mode=array([2]), count=array([116]))\n",
      "<class 'scipy.stats.stats.ModeResult'>\n"
     ]
    }
   ],
   "source": [
    "mode = stats.mode(x)\n",
    "print(mode)\n",
    "print(type(mode))"
   ]
  },
  {
   "cell_type": "code",
   "execution_count": 16,
   "metadata": {},
   "outputs": [
    {
     "name": "stdout",
     "output_type": "stream",
     "text": [
      "[2]\n",
      "[116]\n"
     ]
    }
   ],
   "source": [
    "print(mode[0])\n",
    "print(mode[1])"
   ]
  },
  {
   "cell_type": "code",
   "execution_count": 19,
   "metadata": {},
   "outputs": [],
   "source": [
    "from scipy import special"
   ]
  },
  {
   "cell_type": "code",
   "execution_count": 25,
   "metadata": {},
   "outputs": [
    {
     "name": "stdout",
     "output_type": "stream",
     "text": [
      "10.0\n",
      "<class 'numpy.float64'>\n"
     ]
    }
   ],
   "source": [
    "e = special.exp10(1)\n",
    "print(e)\n",
    "print(type(e))"
   ]
  },
  {
   "cell_type": "code",
   "execution_count": 26,
   "metadata": {},
   "outputs": [
    {
     "name": "stdout",
     "output_type": "stream",
     "text": [
      "16.0\n"
     ]
    }
   ],
   "source": [
    "e1= special.exp2(4)\n",
    "print(e1)"
   ]
  },
  {
   "cell_type": "code",
   "execution_count": 29,
   "metadata": {},
   "outputs": [
    {
     "name": "stdout",
     "output_type": "stream",
     "text": [
      "1.0\n"
     ]
    }
   ],
   "source": [
    "print(special.sindg(90))"
   ]
  },
  {
   "cell_type": "code",
   "execution_count": 31,
   "metadata": {},
   "outputs": [
    {
     "name": "stdout",
     "output_type": "stream",
     "text": [
      "[1 2 3 4]\n",
      "<class 'numpy.ndarray'>\n"
     ]
    }
   ],
   "source": [
    "a = np.array([1,2,3,4])\n",
    "print(a)\n",
    "print(type(a))"
   ]
  },
  {
   "cell_type": "code",
   "execution_count": 33,
   "metadata": {},
   "outputs": [
    {
     "name": "stdout",
     "output_type": "stream",
     "text": [
      "[1 2 3 4]\n",
      "<class 'numpy.ndarray'>\n"
     ]
    }
   ],
   "source": [
    "a = np.array((1,2,3,4))\n",
    "print(a)\n",
    "print(type(a))"
   ]
  },
  {
   "cell_type": "code",
   "execution_count": 34,
   "metadata": {},
   "outputs": [
    {
     "name": "stdout",
     "output_type": "stream",
     "text": [
      "23\n"
     ]
    }
   ],
   "source": [
    "#0-D\n",
    "a0 = np.array(23)\n",
    "print(a0)"
   ]
  },
  {
   "cell_type": "code",
   "execution_count": 35,
   "metadata": {},
   "outputs": [
    {
     "name": "stdout",
     "output_type": "stream",
     "text": [
      "[1 2 3 4 5 6 7 8 9]\n"
     ]
    }
   ],
   "source": [
    "#1-D\n",
    "a1 = np.array([1,2,3,4,5,6,7,8,9])\n",
    "print(a1)"
   ]
  },
  {
   "cell_type": "code",
   "execution_count": 37,
   "metadata": {},
   "outputs": [
    {
     "name": "stdout",
     "output_type": "stream",
     "text": [
      "[[1 2 3 4]\n",
      " [5 6 7 8]]\n"
     ]
    }
   ],
   "source": [
    "#2-D\n",
    "a2 = np.array([[1,2,3,4],[5,6,7,8]])\n",
    "print(a2)"
   ]
  },
  {
   "cell_type": "code",
   "execution_count": 39,
   "metadata": {},
   "outputs": [
    {
     "name": "stdout",
     "output_type": "stream",
     "text": [
      "[[[ 1  2  3]\n",
      "  [ 4  5  6]]\n",
      "\n",
      " [[11 12 13]\n",
      "  [14 15 16]]]\n"
     ]
    }
   ],
   "source": [
    "#3-D\n",
    "a3 = np.array([[[1,2,3],[4,5,6]],[[11,12,13],[14,15,16]]])\n",
    "print(a3)"
   ]
  },
  {
   "cell_type": "code",
   "execution_count": 43,
   "metadata": {},
   "outputs": [
    {
     "name": "stdout",
     "output_type": "stream",
     "text": [
      "3\n"
     ]
    }
   ],
   "source": [
    "#Checking Dimension\n",
    "\n",
    "print(a3.ndim)"
   ]
  },
  {
   "cell_type": "code",
   "execution_count": 45,
   "metadata": {},
   "outputs": [
    {
     "name": "stdout",
     "output_type": "stream",
     "text": [
      "[[1 2 3 4 5]]\n",
      "2\n"
     ]
    }
   ],
   "source": [
    "ab = np.array([1,2,3,4,5], ndmin = 2)\n",
    "print(ab)\n",
    "print(ab.ndim)"
   ]
  },
  {
   "cell_type": "code",
   "execution_count": 49,
   "metadata": {},
   "outputs": [
    {
     "name": "stdout",
     "output_type": "stream",
     "text": [
      "(2, 2, 3)\n"
     ]
    }
   ],
   "source": [
    "print(a3.shape)"
   ]
  },
  {
   "cell_type": "code",
   "execution_count": 50,
   "metadata": {},
   "outputs": [
    {
     "name": "stdout",
     "output_type": "stream",
     "text": [
      "[1 2 3 4 5 6 7 8 9]\n"
     ]
    }
   ],
   "source": [
    "#slicing\n",
    "print(a1)"
   ]
  },
  {
   "cell_type": "code",
   "execution_count": 53,
   "metadata": {},
   "outputs": [
    {
     "name": "stdout",
     "output_type": "stream",
     "text": [
      "[3 4 5 6 7 8 9]\n"
     ]
    }
   ],
   "source": [
    "print(a1[2:])"
   ]
  },
  {
   "cell_type": "code",
   "execution_count": 56,
   "metadata": {},
   "outputs": [
    {
     "name": "stdout",
     "output_type": "stream",
     "text": [
      "[3 5]\n"
     ]
    }
   ],
   "source": [
    "print(a1[2:6:2])"
   ]
  },
  {
   "cell_type": "code",
   "execution_count": 57,
   "metadata": {},
   "outputs": [
    {
     "name": "stdout",
     "output_type": "stream",
     "text": [
      "[[1 2 3 4]\n",
      " [5 6 7 8]]\n"
     ]
    }
   ],
   "source": [
    "print(a2)"
   ]
  },
  {
   "cell_type": "code",
   "execution_count": 58,
   "metadata": {},
   "outputs": [
    {
     "name": "stdout",
     "output_type": "stream",
     "text": [
      "3\n",
      "7\n"
     ]
    }
   ],
   "source": [
    "for i in range(len(a2)):\n",
    "    print(a2[i,2])"
   ]
  },
  {
   "cell_type": "code",
   "execution_count": 59,
   "metadata": {},
   "outputs": [
    {
     "name": "stdout",
     "output_type": "stream",
     "text": [
      "int32\n"
     ]
    }
   ],
   "source": [
    "print(a2.dtype)"
   ]
  },
  {
   "cell_type": "code",
   "execution_count": 62,
   "metadata": {},
   "outputs": [
    {
     "name": "stdout",
     "output_type": "stream",
     "text": [
      "[1.+0.j 2.+0.j]\n",
      "complex128\n"
     ]
    }
   ],
   "source": [
    "arr = np.array([1,2],dtype=complex)\n",
    "print(arr)\n",
    "print(arr.dtype)"
   ]
  },
  {
   "cell_type": "code",
   "execution_count": 64,
   "metadata": {},
   "outputs": [
    {
     "name": "stdout",
     "output_type": "stream",
     "text": [
      "[[0. 0.]\n",
      " [0. 0.]\n",
      " [0. 0.]]\n"
     ]
    }
   ],
   "source": [
    "zeroa = np.zeros(shape= (3,2))\n",
    "print(zeroa)"
   ]
  },
  {
   "cell_type": "code",
   "execution_count": 67,
   "metadata": {},
   "outputs": [
    {
     "name": "stdout",
     "output_type": "stream",
     "text": [
      "[[[1. 1.]\n",
      "  [1. 1.]]\n",
      "\n",
      " [[1. 1.]\n",
      "  [1. 1.]]\n",
      "\n",
      " [[1. 1.]\n",
      "  [1. 1.]]]\n"
     ]
    }
   ],
   "source": [
    "onea = np.ones((3,2,2))\n",
    "print(onea)"
   ]
  },
  {
   "cell_type": "code",
   "execution_count": 86,
   "metadata": {},
   "outputs": [
    {
     "name": "stdout",
     "output_type": "stream",
     "text": [
      "[ 0  1  2  3  4  5  6  7  8  9 10 11]\n"
     ]
    }
   ],
   "source": [
    "A = np.arange(12)\n",
    "print(A)"
   ]
  },
  {
   "cell_type": "code",
   "execution_count": 90,
   "metadata": {},
   "outputs": [
    {
     "name": "stdout",
     "output_type": "stream",
     "text": [
      "[[ 0  1  2]\n",
      " [ 3  4  5]\n",
      " [ 6  7  8]\n",
      " [ 9 10 11]]\n"
     ]
    }
   ],
   "source": [
    "B= A.reshape(4,-1)\n",
    "print(B)"
   ]
  },
  {
   "cell_type": "code",
   "execution_count": 91,
   "metadata": {},
   "outputs": [
    {
     "name": "stdout",
     "output_type": "stream",
     "text": [
      "[[ 0  1  2  3  4]\n",
      " [ 5  6  7  8  9]\n",
      " [10 11 12 13 14]]\n"
     ]
    }
   ],
   "source": [
    "array = np.arange(15).reshape(3,5)\n",
    "print(array)"
   ]
  },
  {
   "cell_type": "code",
   "execution_count": 92,
   "metadata": {},
   "outputs": [
    {
     "name": "stdout",
     "output_type": "stream",
     "text": [
      "[ 0  1  2  3  4  5  6  7  8  9 10 11 12 13 14]\n"
     ]
    }
   ],
   "source": [
    "print(array.reshape(-1))"
   ]
  },
  {
   "cell_type": "code",
   "execution_count": 93,
   "metadata": {},
   "outputs": [
    {
     "name": "stdout",
     "output_type": "stream",
     "text": [
      "[ 0  1  2  3  4  5  6  7  8  9 10 11 12 13 14]\n"
     ]
    }
   ],
   "source": [
    "print(array.ravel())"
   ]
  },
  {
   "cell_type": "code",
   "execution_count": 96,
   "metadata": {},
   "outputs": [
    {
     "name": "stdout",
     "output_type": "stream",
     "text": [
      "[0.1370879  0.729178   0.81620162 0.98807037 0.10912563 0.78131475\n",
      " 0.36296238 0.39294986 0.19792416 0.48799573]\n"
     ]
    }
   ],
   "source": [
    "randoma =np.random.rand(10)\n",
    "print(randoma)"
   ]
  },
  {
   "cell_type": "code",
   "execution_count": 99,
   "metadata": {},
   "outputs": [
    {
     "name": "stdout",
     "output_type": "stream",
     "text": [
      "[[0.1370879  0.729178  ]\n",
      " [0.81620162 0.98807037]\n",
      " [0.10912563 0.78131475]\n",
      " [0.36296238 0.39294986]\n",
      " [0.19792416 0.48799573]]\n"
     ]
    }
   ],
   "source": [
    "print(randoma.reshape(5,-1))"
   ]
  },
  {
   "cell_type": "code",
   "execution_count": 6,
   "metadata": {},
   "outputs": [],
   "source": [
    "import numpy as np\n",
    "A = np.array([[3,6,7],[5,3,0]])\n",
    "B= np.array([[1,1],[2,1],[3,-3]])\n"
   ]
  },
  {
   "cell_type": "code",
   "execution_count": 8,
   "metadata": {},
   "outputs": [
    {
     "name": "stdout",
     "output_type": "stream",
     "text": [
      "[[ 8  9  7]\n",
      " [11 15 14]\n",
      " [-6  9 21]]\n"
     ]
    }
   ],
   "source": [
    "#r1Xc1 r2Xc2 --> c1==r2\n",
    "c= B.dot(A)\n",
    "print(c)"
   ]
  },
  {
   "cell_type": "code",
   "execution_count": 9,
   "metadata": {},
   "outputs": [],
   "source": [
    "A= np.array([[2,4],[5,6]])\n",
    "B = np.array([[9,3],[7,8]])\n"
   ]
  },
  {
   "cell_type": "code",
   "execution_count": 10,
   "metadata": {},
   "outputs": [
    {
     "name": "stdout",
     "output_type": "stream",
     "text": [
      "[[11  7]\n",
      " [12 14]]\n"
     ]
    }
   ],
   "source": [
    "C=A+B\n",
    "print(C)"
   ]
  },
  {
   "cell_type": "code",
   "execution_count": 15,
   "metadata": {},
   "outputs": [
    {
     "name": "stdout",
     "output_type": "stream",
     "text": [
      "[[2 4]\n",
      " [5 6]]\n",
      "[[2 5]\n",
      " [4 6]]\n",
      "[[2 5]\n",
      " [4 6]]\n"
     ]
    }
   ],
   "source": [
    "print(A)\n",
    "print(A.transpose())\n",
    "print(A.T)"
   ]
  },
  {
   "cell_type": "code",
   "execution_count": null,
   "metadata": {},
   "outputs": [],
   "source": []
  }
 ],
 "metadata": {
  "kernelspec": {
   "display_name": "Python 3",
   "language": "python",
   "name": "python3"
  },
  "language_info": {
   "codemirror_mode": {
    "name": "ipython",
    "version": 3
   },
   "file_extension": ".py",
   "mimetype": "text/x-python",
   "name": "python",
   "nbconvert_exporter": "python",
   "pygments_lexer": "ipython3",
   "version": "3.7.4"
  }
 },
 "nbformat": 4,
 "nbformat_minor": 2
}
